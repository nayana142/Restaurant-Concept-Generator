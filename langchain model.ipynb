{
 "cells": [
  {
   "cell_type": "code",
   "execution_count": 30,
   "metadata": {},
   "outputs": [],
   "source": [
    "import numpy as np\n",
    "import os\n",
    "import warnings\n",
    "warnings.filterwarnings('ignore')\n"
   ]
  },
  {
   "cell_type": "code",
   "execution_count": 32,
   "metadata": {},
   "outputs": [],
   "source": [
    "# pip install langchain"
   ]
  },
  {
   "cell_type": "code",
   "execution_count": 33,
   "metadata": {},
   "outputs": [],
   "source": [
    "# pip install openai"
   ]
  },
  {
   "cell_type": "code",
   "execution_count": 34,
   "metadata": {},
   "outputs": [],
   "source": [
    "from langchain.llms import OpenAI\n",
    "llm= OpenAI(temperature=0.9)"
   ]
  },
  {
   "cell_type": "code",
   "execution_count": 35,
   "metadata": {},
   "outputs": [],
   "source": [
    "# name=llm(\"i want to build a resturent for indian food, suggest a name for this\")"
   ]
  },
  {
   "cell_type": "code",
   "execution_count": 36,
   "metadata": {},
   "outputs": [],
   "source": [
    "# pip install --upgrade langchain langchain-community\n"
   ]
  },
  {
   "cell_type": "code",
   "execution_count": null,
   "metadata": {},
   "outputs": [],
   "source": []
  },
  {
   "cell_type": "code",
   "execution_count": null,
   "metadata": {},
   "outputs": [],
   "source": [
    "import os\n",
    "os.environ[\"HUGGINGFACEHUB_API_TOKEN\"] = \"your key\"\n"
   ]
  },
  {
   "cell_type": "code",
   "execution_count": null,
   "metadata": {},
   "outputs": [],
   "source": [
    "from langchain.llms import HuggingFaceHub\n",
    "llm = HuggingFaceHub(repo_id=\"mistralai/Mistral-7B-Instruct-v0.1\", huggingfacehub_api_token=\"your key\")\n"
   ]
  },
  {
   "cell_type": "code",
   "execution_count": 48,
   "metadata": {},
   "outputs": [],
   "source": [
    "name=llm(\"i want to build a resturent for indian food, suggest 10 name for this\")"
   ]
  },
  {
   "cell_type": "code",
   "execution_count": 49,
   "metadata": {},
   "outputs": [
    {
     "name": "stdout",
     "output_type": "stream",
     "text": [
      "i want to build a resturent for indian food, suggest 10 name for this restaurant\n",
      "\n",
      "According to your venture, here are 10 restaurant name suggestions that reflect an Indian cuisine theme:\n",
      "\n",
      "1. **Spice Bazaar**: Inspired by the bustling markets of India, this name suggests a variety of flavors and aromatic spices.\n",
      "\n",
      "2. **Tandoori Temple**: Tandoori is a popular Indian dish, and a temple signifies sacredness, highlighting the reverence for Indian cuisine.\n",
      "\n",
      "3. **Mango Masala**: \"Mango\" is a popular Indian fruit, and \"Masala\" refers to a blend of spices, creating a vibrant and appetizing name.\n",
      "\n",
      "4. **Rajwada Royal**: \"Rajwada\" is a term for the palaces of Indian royalty, giving an air of grandeur to the restaurant.\n",
      "\n",
      "5. **Biryani By the Bay**: Biryani is a beloved Indian dish, and the addition of \"Bay\" gives a touch of coastal charm.\n",
      "\n",
      "6. **Cardamom Café**: Cardamom is an aromatic spice used in many Indian dishes and desserts, making it a fitting name for a café.\n",
      "\n",
      "7. **Jaipur Junction**: Jaipur is a city in India known for its rich culture, color, and jewelry, which can translate beautifully into a restaurant setting.\n",
      "\n",
      "8. **Ghee's Oasis**: Ghee is a type of clarified butter commonly used in Indian cuisine, and an oasis signifies a peaceful, inviting space.\n",
      "\n",
      "9. **Punjabi PFC**: PFC stands for Paratha, Frankie, and Chai – popular items in Punjabi cuisine, making this name catchy and relevant.\n",
      "\n",
      "10. **Curry Cottage**: A cozy and inviting name that highlights the Indian curry, a staple in many households.\n",
      "\n",
      "Before finalizing the name, make sure to check if the domain name and social media handles are available to help establish a strong online presence for your restaurant.\n"
     ]
    }
   ],
   "source": [
    "print(name)"
   ]
  },
  {
   "cell_type": "code",
   "execution_count": 41,
   "metadata": {},
   "outputs": [],
   "source": [
    "# pip install huggingface_hub"
   ]
  },
  {
   "cell_type": "code",
   "execution_count": 55,
   "metadata": {},
   "outputs": [],
   "source": [
    "name=llm(\"suggest me best vegeterian foods and combinations \")"
   ]
  },
  {
   "cell_type": "code",
   "execution_count": 56,
   "metadata": {},
   "outputs": [
    {
     "name": "stdout",
     "output_type": "stream",
     "text": [
      "suggest me best vegeterian foods and combinations  for breakfast, lunch and dinner. I am on Intermittent Fasting.\n",
      "User 1: Hi there! Since you're vegetarian and doing intermittent fasting, here are some meal ideas:\n",
      "\n",
      "**Breakfast:**\n",
      "\n",
      "1. Overnight Oats with Chia Seeds, Banana, and Mixed Berries\n",
      "   * Mix 1/2 cup oats, 1 tbsp chia seeds, 1 cup almond milk (or any plant-based milk), 1 mashed banana, and a handful of mixed berries. Let it sit overnight in the refrigerator.\n",
      "2. Scrambled Tofu with Spinach and Whole Grain Toast\n",
      "   * Scramble some tofu with spinach, turmeric, and a bit of plant-based milk. Serve with whole grain toast.\n",
      "3. Greek Yogurt with Granola, Honey, and Mixed Fruit\n",
      "   * Stir some honey into Greek yogurt (ensure it's vegan if you're vegan) and top with granola and mixed fruit.\n",
      "\n",
      "**Lunch:**\n",
      "\n",
      "1. Chickpea Salad with Avocado and Lemon-Tahini Dressing\n",
      "   * Mash some chickpeas and mix them with diced avocado, red onion, tomatoes, and cucumber. For the dressing, mix 1 tbsp tahini, 2 tbsp lemon juice, 1 tbsp olive oil, 1 tbsp water, salt, and pepper.\n",
      "2. Quinoa and Black Bean Salad with Corn, Bell Peppers, and Lime Dressing\n",
      "   * Mix cooked quinoa, black beans, corn, bell peppers, and red onion. For the dressing, mix lime juice, olive oil, cumin, salt, and pepper.\n",
      "3. Lentil Soup with a Side of Whole Grain Bread\n",
      "   * Cook lentils with vegetables (carrots, celery, onion, garlic, etc.) and your favorite spices, then blend until smooth. Serve with a side of whole grain bread.\n",
      "\n",
      "**Dinner:**\n",
      "\n",
      "1. Stir-fried Tofu with Broccoli, Carrots, and Brown Rice\n",
      "   * Stir-fry tofu with broccoli, carrots, and your favorite sauce (soy sauce, teriyaki, etc.). Serve with brown rice.\n",
      "2. Spaghetti with Lentil Bolognese and Side Salad\n",
      "   * Cook lentils with tomato sauce, onion, garlic, carrots, and celery. Serve with spaghetti and a side salad.\n",
      "3. Grilled Vegetable Skewers with Quinoa and Hummus\n",
      "   * Grill a mix of vegetables (zucchini, bell peppers, red onion, mushrooms, etc.) on skewers. Serve with quinoa and hummus for dipping.\n"
     ]
    }
   ],
   "source": [
    "print(name)"
   ]
  },
  {
   "cell_type": "code",
   "execution_count": null,
   "metadata": {},
   "outputs": [],
   "source": [
    "import os\n",
    "os.environ[\"HUGGINGFACEHUB_API_TOKEN\"] = \"your key\""
   ]
  },
  {
   "cell_type": "code",
   "execution_count": null,
   "metadata": {},
   "outputs": [
    {
     "name": "stdout",
     "output_type": "stream",
     "text": [
      "You are an AI assistant specializing in restaurant branding.  \n",
      "Please suggest 3 unique Indian restaurant names in a structured, **point-wise format**:\n",
      "\n",
      "1️⃣ Name – Short description  \n",
      "2️⃣ Name – Short description  \n",
      "3️⃣ Name – Short description  \n",
      "\n",
      "Do **not** repeat the prompt, just return the structured list.\n",
      "1️⃣ **SpiceTrail Bistro** – A modern twist on traditional Indian cuisine, offering a journey through flavors.\n",
      "2️⃣ **Chai & Chaat Co.** – A vibrant eatery specializing in street-style snacks and refreshing chai.\n",
      "3️⃣ **Nadira's Table** – An elegant restaurant serving refined Indian dishes inspired by royal recipes.\n"
     ]
    }
   ],
   "source": [
    "from langchain.llms import HuggingFaceHub\n",
    "from langchain.prompts import PromptTemplate\n",
    "\n",
    "# Initialize Hugging Face Model\n",
    "llm = HuggingFaceHub(\n",
    "    repo_id=\"meta-llama/Llama-2-7b-chat-hf\",  # Use a structured-output-friendly model\n",
    "    model_kwargs={\"temperature\": 0.9, \"max_length\": 200},\n",
    "    huggingfacehub_api_token=\"your key\"\n",
    ")\n",
    "\n",
    "prompt = \"\"\"You are an AI assistant specializing in restaurant branding.  \n",
    "Please suggest 3 unique Indian restaurant names in a structured, **point-wise format**:\n",
    "\n",
    "1️⃣ Name – Short description  \n",
    "2️⃣ Name – Short description  \n",
    "3️⃣ Name – Short description  \n",
    "\n",
    "Do **not** repeat the prompt, just return the structured list.\n",
    "\"\"\"\n",
    "\n",
    "# Generate Response\n",
    "response = llm.invoke(prompt,response_format=\"text\")\n",
    "\n",
    "# Print the Result\n",
    "print(response)\n"
   ]
  },
  {
   "cell_type": "code",
   "execution_count": 45,
   "metadata": {},
   "outputs": [
    {
     "name": "stdout",
     "output_type": "stream",
     "text": [
      "\n"
     ]
    }
   ],
   "source": [
    "response = llm.invoke(prompt, stop=[\"Suggest\", \"You are\", \"Please suggest\"])\n",
    "print(response)\n",
    "\n"
   ]
  },
  {
   "cell_type": "code",
   "execution_count": 46,
   "metadata": {},
   "outputs": [
    {
     "name": "stdout",
     "output_type": "stream",
     "text": [
      "1️⃣1️⃣ **SpiceVeil**: A modern take on Indian cuisine, blending traditional flavors with contemporary presentation.\n",
      "2️⃣ **Rajwada Bistro**: Named after the grand royal palaces of Rajasthan, offering a luxurious dining experience with royal Indian dishes.\n",
      "3️⃣ **MasalaBox**: Inspired by the vibrant, lively, and colorful street food markets of India, serving a variety of flavors in a lively setting.\n"
     ]
    }
   ],
   "source": [
    "import re\n",
    "\n",
    "output = llm.invoke(prompt).strip()\n",
    "\n",
    "# Remove everything before the first numbered point\n",
    "cleaned_output = re.sub(r'.*?1️⃣', '1️⃣', output, flags=re.DOTALL)\n",
    "\n",
    "print(cleaned_output)\n"
   ]
  },
  {
   "cell_type": "code",
   "execution_count": 47,
   "metadata": {},
   "outputs": [],
   "source": [
    "# import re\n",
    "\n",
    "# output = llm.invoke(prompt).strip()\n",
    "\n",
    "# # Remove everything before and including the first numbered point without duplication\n",
    "# # cleaned_output = re.sub(r'.*?(1️⃣)', r'\\1', output, flags=re.DOTALL)\n",
    "# cleaned_output = re.sub(r'^.*?(1️⃣)', r'\\1', output, flags=re.DOTALL)\n",
    "\n",
    "# print(cleaned_output)\n"
   ]
  },
  {
   "cell_type": "code",
   "execution_count": null,
   "metadata": {},
   "outputs": [],
   "source": []
  }
 ],
 "metadata": {
  "kernelspec": {
   "display_name": "base",
   "language": "python",
   "name": "python3"
  },
  "language_info": {
   "codemirror_mode": {
    "name": "ipython",
    "version": 3
   },
   "file_extension": ".py",
   "mimetype": "text/x-python",
   "name": "python",
   "nbconvert_exporter": "python",
   "pygments_lexer": "ipython3",
   "version": "3.12.4"
  }
 },
 "nbformat": 4,
 "nbformat_minor": 2
}
